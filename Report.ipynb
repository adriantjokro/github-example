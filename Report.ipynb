{
 "cells": [
  {
   "cell_type": "markdown",
   "metadata": {},
   "source": [
    "1. Objective:"
   ]
  },
  {
   "cell_type": "markdown",
   "metadata": {},
   "source": [
    "How to choose are to open coffee shop in Downtown Toronto?"
   ]
  },
  {
   "cell_type": "markdown",
   "metadata": {},
   "source": [
    "2. Introduction/Business Problem"
   ]
  },
  {
   "cell_type": "markdown",
   "metadata": {},
   "source": [
    "In Downtown Toronto, if someone is looking to open a coffee shop, where would you recommend that they open it? Introduction/Business Problem Coffee shop is a booming industry lately. Coffee industry has surging consumer numbers everyday. I have seen a lot of competition in this industy that many is not doing well and forced to close; so, a thorough research of prospective area to open the shop is crucial. The shop neighborhoods you want to open at clearly define who is our target customer and how many visits you expect to have. Coffee shop is also one of the most profitable business with big margin that intrigue a lot of investors."
   ]
  },
  {
   "cell_type": "markdown",
   "metadata": {},
   "source": [
    "3. Data where you describe the data that will be used to solve the problem and the source of the data."
   ]
  },
  {
   "cell_type": "markdown",
   "metadata": {},
   "source": [
    "Using Foursquare API, we will analyze all the coffee shops around Downtown Toronto, more specifically in the most dense areas. We will analyze the rating of each coffee shop ratings in the corresponding area. We can easily obtain the rating of venue, number of check in, menu, and tips abous the venue using Foursquare API. For example of my case, I will check the coffee shop with the most rating and the statistics of check-ins, and look at the shop surrounding the high rated shop to see if it gives any impact. From that we can see what differentiate that shop among the rest competitor and what is their specialties if they have one. This information is useful for planning our new shop. The second example, is we can select the area where we have much of check in but not good rating of the shop. This is an opportunity for us to create something different in the area."
   ]
  },
  {
   "cell_type": "markdown",
   "metadata": {},
   "source": [
    "4. Methodology section which represents the main component of the report where you discuss and describe any exploratory data analysis that you did, any inferential statistical testing that you performed, if any, and what machine learnings were used and why."
   ]
  },
  {
   "cell_type": "markdown",
   "metadata": {},
   "source": [
    "We use K-means clustering data analysis to get insights of our problem. The reason we use K-means clustering because we can easily discover new insights should the data have many variables. \n",
    "In this case, we are assessing coffee shop rating based on the surrounding shop within 2KM range. To see whether the environment has any impact to the coffee shop rating. Thus, we are trying to figure out if there's any pattern that relate coffee shop rating to its surrounding. Clustering will be the best solution to this."
   ]
  },
  {
   "cell_type": "markdown",
   "metadata": {},
   "source": [
    "6. Conclusion section where you conclude the report."
   ]
  },
  {
   "cell_type": "markdown",
   "metadata": {},
   "source": [
    "From this obervation, I saw that the highest rating shop is tend to be surrounded by other coffee shop and placed near park."
   ]
  },
  {
   "cell_type": "code",
   "execution_count": null,
   "metadata": {},
   "outputs": [],
   "source": []
  }
 ],
 "metadata": {
  "kernelspec": {
   "display_name": "Python",
   "language": "python",
   "name": "conda-env-python-py"
  },
  "language_info": {
   "codemirror_mode": {
    "name": "ipython",
    "version": 3
   },
   "file_extension": ".py",
   "mimetype": "text/x-python",
   "name": "python",
   "nbconvert_exporter": "python",
   "pygments_lexer": "ipython3",
   "version": "3.6.10"
  }
 },
 "nbformat": 4,
 "nbformat_minor": 4
}
